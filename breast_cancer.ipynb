{
  "nbformat": 4,
  "nbformat_minor": 0,
  "metadata": {
    "colab": {
      "name": "breast cancer",
      "version": "0.3.2",
      "provenance": []
    },
    "kernelspec": {
      "name": "python3",
      "display_name": "Python 3"
    }
  },
  "cells": [
    {
      "metadata": {
        "id": "LBNWxMMN4PI2",
        "colab_type": "code",
        "outputId": "44a65977-dd61-4a3d-982b-f616c29080f9",
        "colab": {
          "base_uri": "https://localhost:8080/",
          "height": 806
        }
      },
      "cell_type": "code",
      "source": [
        "import pandas as pd\n",
        "import numpy as np\n",
        "import matplotlib.pyplot as plt\n",
        "import seaborn as sns\n",
        "from sklearn import feature_selection\n",
        "from sklearn.linear_model import LogisticRegression\n",
        "from sklearn import model_selection\n",
        "from sklearn.metrics import accuracy_score\n",
        "from sklearn.metrics import classification_report\n",
        "\n",
        "\n",
        "names = ['class', 'age', 'menopause', 'tumor-size', 'inv-nodes', 'node-caps', 'deg-malig', 'breast', 'breast-quad', 'irradiat']\n",
        "url = 'https://archive.ics.uci.edu/ml/machine-learning-databases/breast-cancer/breast-cancer.data'\n",
        "df = pd.read_csv(url, names=names)\n",
        "\n",
        "# null_data = df.loc[df['node-caps']=='?'], cerco dove sono i dati mancanti\n",
        "\n",
        "a = df['node-caps'].replace('?', 'missing') # li rimpiazzo con la stringa missing\n",
        "df['node-caps'] = a # aggiorno il df\n",
        "\n",
        "df['breast-quad'] = df['breast-quad'].replace('?', 'missing') # lo faccio anche con l'altra colonna\n",
        "\n",
        "countplt = sns.countplot(x=df['class'])\n",
        "plt.show()\n",
        "# distribuzione buona\n",
        "\n",
        "one_zero = (df['class']=='recurrence-events').astype(int)\n",
        "df['class'] = one_zero\n",
        "\n",
        "one_zero1 = (df['breast']=='left').astype(int)\n",
        "df['breast'] = one_zero1\n",
        "\n",
        "one_zero2 = (df['irradiat']=='yes').astype(int)\n",
        "df['irradiat'] = one_zero2\n",
        "\n",
        "print(df['menopause'].unique())\n",
        "print(df['node-caps'].unique())\n",
        "print(df['breast'].unique())\n",
        "print(df['breast-quad'].unique())\n",
        "print(df['deg-malig'].unique())\n",
        "print(df['inv-nodes'].unique())\n",
        "print(df['irradiat'].unique())\n",
        "\n",
        "col_list = ['age', 'tumor-size', 'menopause', 'node-caps', 'breast-quad', 'deg-malig', 'inv-nodes', 'irradiat']\n",
        "df = pd.get_dummies(df, columns=col_list)\n",
        "\n",
        "Y = df['class']\n",
        "cols_of_x = [x for x in df.columns if x !='class']\n",
        "X = df[cols_of_x]\n",
        "\n",
        "model = LogisticRegression()\n",
        "\n",
        "rfe = feature_selection.RFE(model, 20)\n",
        "rfe = rfe.fit(X, Y)\n",
        "print(rfe.support_)\n",
        "print(rfe.ranking_)\n",
        "\n",
        "columns = df.columns.values.tolist()\n",
        "print(columns)\n",
        "\n",
        "rfe_support = rfe.support_.tolist()\n",
        "selected_features = []\n",
        "for i in range(len(rfe_support)):\n",
        "  if rfe_support[i]==True:\n",
        "    selected_features.append(columns[i])\n",
        "print(selected_features)\n",
        "\n",
        "X_new = df[selected_features]\n",
        "\n",
        "X_train, X_validation, Y_train, Y_validation = model_selection.train_test_split(X_new, Y, test_size=0.30, random_state=1)\n",
        "\n",
        "model.fit(X_new, Y)\n",
        "\n",
        "predictions = model.predict(X_validation)\n",
        "\n",
        "print(accuracy_score(Y_validation, predictions))\n",
        "print(classification_report(Y_validation, predictions))"
      ],
      "execution_count": 0,
      "outputs": [
        {
          "output_type": "stream",
          "text": [
            "/usr/local/lib/python3.6/dist-packages/seaborn/categorical.py:1428: FutureWarning: remove_na is deprecated and is a private function. Do not use.\n",
            "  stat_data = remove_na(group_data)\n"
          ],
          "name": "stderr"
        },
        {
          "output_type": "display_data",
          "data": {
            "image/png": "[encoded data removed]",
            "text/plain": [
              "<matplotlib.figure.Figure at 0x7f45e1264518>"
            ]
          },
          "metadata": {
            "tags": []
          }
        },
        {
          "output_type": "stream",
          "text": [
            "['premeno' 'ge40' 'lt40']\n",
            "['no' 'yes' 'missing']\n",
            "[1 0]\n",
            "['left_low' 'right_up' 'left_up' 'right_low' 'central' 'missing']\n",
            "[3 2 1]\n",
            "['0-2' '6-8' '9-11' '3-5' '15-17' '12-14' '24-26']\n",
            "[0 1]\n",
            "[ True False  True False False  True False False  True False  True  True\n",
            "  True False False False  True  True  True False False False False  True\n",
            "  True False False  True  True  True  True  True  True  True False False\n",
            " False False False False  True False]\n",
            "[ 1  9  1 11  8  1 16 20  1 21  1  1  1 22 10 17  1  1  1 14 13  5  4  1\n",
            "  1 19  3  1  1  1  1  1  1  1 18 12  6 23  7  2  1 15]\n",
            "['class', 'breast', 'age_20-29', 'age_30-39', 'age_40-49', 'age_50-59', 'age_60-69', 'age_70-79', 'tumor-size_0-4', 'tumor-size_10-14', 'tumor-size_15-19', 'tumor-size_20-24', 'tumor-size_25-29', 'tumor-size_30-34', 'tumor-size_35-39', 'tumor-size_40-44', 'tumor-size_45-49', 'tumor-size_5-9', 'tumor-size_50-54', 'menopause_ge40', 'menopause_lt40', 'menopause_premeno', 'node-caps_missing', 'node-caps_no', 'node-caps_yes', 'breast-quad_central', 'breast-quad_left_low', 'breast-quad_left_up', 'breast-quad_missing', 'breast-quad_right_low', 'breast-quad_right_up', 'deg-malig_1', 'deg-malig_2', 'deg-malig_3', 'inv-nodes_0-2', 'inv-nodes_12-14', 'inv-nodes_15-17', 'inv-nodes_24-26', 'inv-nodes_3-5', 'inv-nodes_6-8', 'inv-nodes_9-11', 'irradiat_0', 'irradiat_1']\n",
            "['class', 'age_20-29', 'age_50-59', 'tumor-size_0-4', 'tumor-size_15-19', 'tumor-size_20-24', 'tumor-size_25-29', 'tumor-size_45-49', 'tumor-size_5-9', 'tumor-size_50-54', 'node-caps_no', 'node-caps_yes', 'breast-quad_left_up', 'breast-quad_missing', 'breast-quad_right_low', 'breast-quad_right_up', 'deg-malig_1', 'deg-malig_2', 'deg-malig_3', 'inv-nodes_9-11']\n",
            "1.0\n",
            "             precision    recall  f1-score   support\n",
            "\n",
            "          0       1.00      1.00      1.00        61\n",
            "          1       1.00      1.00      1.00        25\n",
            "\n",
            "avg / total       1.00      1.00      1.00        86\n",
            "\n"
          ],
          "name": "stdout"
        }
      ]
    }
  ]
}